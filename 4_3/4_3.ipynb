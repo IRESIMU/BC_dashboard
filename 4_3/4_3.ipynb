{
 "cells": [
  {
   "cell_type": "code",
   "execution_count": 27,
   "id": "b3504e45",
   "metadata": {},
   "outputs": [
    {
     "data": {
      "image/png": "[encoded data removed]",
      "text/plain": [
       "<Figure size 720x432 with 1 Axes>"
      ]
     },
     "metadata": {
      "needs_background": "light"
     },
     "output_type": "display_data"
    }
   ],
   "source": [
    "# 4_3 Mileage Distribution by Make and Age #####\n",
    "\n",
    "import pandas as pd\n",
    "import seaborn as sns\n",
    "import matplotlib.pyplot as plt\n",
    "\n",
    "# Manually replace the file path\n",
    "csv_url = 'C:/Users/samar/Downloads/dft_test_result_2022/test_result.csv'\n",
    "df = pd.read_csv(csv_url, delimiter = '|', error_bad_lines=False)\n",
    "df = df[df['fuel_type'].isin(['EL', 'Electric', 'HY' , 'Hybrid Electric (Clean)'])]\n",
    "\n",
    "# csv_url = r'C:\\Users\\varun\\OneDrive - Maynooth University\\0_BCP\\New Files\\test vehicle.csv'\n",
    "# df = pd.read_csv(csv_url)\n",
    "\n",
    "df['present'] = df['test_date'].str[-4:]\n",
    "df['present'] = pd.to_numeric(df['present'], errors='coerce')\n",
    "df['start'] = df['first_use_date'].str[-4:]\n",
    "df['start'] = pd.to_numeric(df['start'], errors='coerce')\n",
    "df['age'] = df['present'] - df['start']\n",
    "# Define a function to check if the value is less than 8 and return 1, otherwise 0\n",
    "def assign_value_less_80(x):\n",
    "    return 1 if x > 8 else 0\n",
    "df['boh_below_80'] = df['age'].apply(assign_value_less_80)\n",
    "def assign_value_80_90(x):\n",
    "    return 1 if 5 <= x <= 8 else 0\n",
    "df['boh_80-90'] = df['age'].apply(assign_value_80_90)\n",
    "def assign_value_above_90(x):\n",
    "    return 1 if x < 5 else 0\n",
    "df['boh_above_90'] = df['age'].apply(assign_value_above_90)\n",
    "# Calculate the counts of each string in the column\n",
    "string_counts = df['model'].value_counts()\n",
    "df['model_count'] = df['model'].map(string_counts)\n",
    "ma_count = df['make'].value_counts()\n",
    "df['make_count'] = df['make'].map(ma_count)\n",
    "columns_to_drop = [0,1,3,4,5,7,10]\n",
    "df.drop(df.columns[columns_to_drop], axis=1, inplace=True)\n",
    "\n",
    "\n",
    "# Function to map age to categories\n",
    "def categorize_age(age):\n",
    "    if age <= 3:\n",
    "        return 1\n",
    "    elif age <= 6:\n",
    "        return 2\n",
    "    elif age <= 9:\n",
    "        return 3\n",
    "    elif age <= 12:\n",
    "        return 4\n",
    "    elif age <= 15:\n",
    "        return 5\n",
    "    else:\n",
    "        return 6\n",
    "\n",
    "# Apply the categorize_age function to create the new column\n",
    "df['age_category'] = df['age'].apply(categorize_age)\n",
    "\n",
    "# Manually enter top 10 models as it is mentioned in the data\n",
    "top_ten_models = ['PRIUS', 'YARIS', 'AURIS', 'OUTLANDER', 'C-HR', 'LEAF', 'CT', 'RAV4', 'IONIQ', 'NIRO']\n",
    "\n",
    "# Filter the DataFrame to include only rows with 'column_name' matching the strings in 'strings_to_filter'\n",
    "filtered_df = df[df['model'].isin(top_ten_models)]\n",
    "\n",
    "# Calculate the average mileage for each age category of each manufacturer\n",
    "grouped_df = filtered_df.groupby(['make', 'age_category'])['test_mileage'].mean().reset_index()\n",
    "\n",
    "# Pivot the data to have age categories as columns\n",
    "pivoted_df = grouped_df.pivot(index='make', columns='age_category', values='test_mileage')\n",
    "\n",
    "# Sort the DataFrame based on total mileage for each manufacturer\n",
    "pivoted_df['total_mileage'] = pivoted_df.sum(axis=1)\n",
    "pivoted_df = pivoted_df.sort_values(by='total_mileage', ascending=False)\n",
    "\n",
    "# Select the top 10 manufacturers for the plot\n",
    "top_10_manufacturers = pivoted_df.head(10).index\n",
    "\n",
    "# Filter the DataFrame to include only the top 10 manufacturers\n",
    "filtered_pivoted_df = pivoted_df.loc[top_10_manufacturers]\n",
    "\n",
    "# Map age category numbers to age group labels\n",
    "age_group_labels = {\n",
    "    1: '0-3 years',\n",
    "    2: '4-6 years',\n",
    "    3: '7-9 years',\n",
    "    4: '10-12 years',\n",
    "    5: '13-15 years',\n",
    "    6: 'Above 15 years'\n",
    "}\n",
    "filtered_pivoted_df = filtered_pivoted_df.rename(columns=age_group_labels)\n",
    "\n",
    "# Plot the stacked bar graph\n",
    "filtered_pivoted_df.drop(columns='total_mileage').plot(kind='bar', stacked=True, colormap='viridis',figsize=(10, 6))\n",
    "plt.xlabel('Manufacturer')\n",
    "plt.ylabel('Average Mileage')\n",
    "plt.title('Average Mileage of Each Age Category by Manufacturer')\n",
    "plt.xticks(rotation=0, ha='center')\n",
    "plt.legend(title='Age Category', loc='upper right')\n",
    "plt.tight_layout()\n",
    "plt.show()"
   ]
  },
  {
   "cell_type": "code",
   "execution_count": null,
   "id": "a6b4b87a",
   "metadata": {},
   "outputs": [],
   "source": []
  },
  {
   "cell_type": "code",
   "execution_count": null,
   "id": "4d787514",
   "metadata": {},
   "outputs": [],
   "source": []
  },
  {
   "cell_type": "code",
   "execution_count": null,
   "id": "ffd63f77",
   "metadata": {},
   "outputs": [],
   "source": []
  },
  {
   "cell_type": "code",
   "execution_count": null,
   "id": "6c840a46",
   "metadata": {},
   "outputs": [],
   "source": []
  },
  {
   "cell_type": "code",
   "execution_count": null,
   "id": "e426cf0a",
   "metadata": {},
   "outputs": [],
   "source": []
  },
  {
   "cell_type": "code",
   "execution_count": null,
   "id": "bae7b6d9",
   "metadata": {},
   "outputs": [],
   "source": []
  },
  {
   "cell_type": "code",
   "execution_count": null,
   "id": "09b1ead0",
   "metadata": {},
   "outputs": [],
   "source": []
  },
  {
   "cell_type": "code",
   "execution_count": null,
   "id": "fd64c706",
   "metadata": {},
   "outputs": [],
   "source": []
  }
 ],
 "metadata": {
  "kernelspec": {
   "display_name": "Python 3",
   "language": "python",
   "name": "python3"
  },
  "language_info": {
   "codemirror_mode": {
    "name": "ipython",
    "version": 3
   },
   "file_extension": ".py",
   "mimetype": "text/x-python",
   "name": "python",
   "nbconvert_exporter": "python",
   "pygments_lexer": "ipython3",
   "version": "3.8.8"
  }
 },
 "nbformat": 4,
 "nbformat_minor": 5
}
