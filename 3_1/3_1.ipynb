{
 "cells": [
  {
   "cell_type": "code",
   "execution_count": 41,
   "id": "1022af7c",
   "metadata": {},
   "outputs": [
    {
     "name": "stdout",
     "output_type": "stream",
     "text": [
      "         start  present   age        boh\n",
      "0       2008.0     2022  14.0  Below 80%\n",
      "1       2013.0     2022   9.0  Below 80%\n",
      "2       2018.0     2022   4.0  Above 90%\n",
      "3       2016.0     2022   6.0     80-90%\n",
      "4       2018.0     2022   4.0  Above 90%\n",
      "...        ...      ...   ...        ...\n",
      "947913  2019.0     2022   3.0  Above 90%\n",
      "947914  2015.0     2022   7.0     80-90%\n",
      "947915  2018.0     2022   4.0  Above 90%\n",
      "947916  2011.0     2022  11.0  Below 80%\n",
      "947917  2013.0     2022   9.0  Below 80%\n",
      "\n",
      "[947918 rows x 4 columns]\n"
     ]
    },
    {
     "data": {
      "image/png": "[encoded data removed]",
      "text/plain": [
       "<Figure size 720x432 with 1 Axes>"
      ]
     },
     "metadata": {
      "needs_background": "light"
     },
     "output_type": "display_data"
    }
   ],
   "source": [
    "########## 3_1 Predicted Number of EVs by Year of Construction and Battery Health  #########\n",
    "import pandas as pd\n",
    "import numpy as np\n",
    "import matplotlib.pyplot as plt\n",
    "\n",
    "# Manually change the file path\n",
    "file_path = r'C:\\Users\\varun\\OneDrive - Maynooth University\\0_BCP\\New Files\\test vehicle.csv'\n",
    "df = pd.read_csv(file_path)\n",
    "\n",
    "# Calculating age\n",
    "df['present'] = df['test_date'].str[-4:]\n",
    "df['present'] = pd.to_numeric(df['present'], errors='coerce')\n",
    "df['start'] = df['first_use_date'].str[-4:]\n",
    "df['start'] = pd.to_numeric(df['start'], errors='coerce')\n",
    "df['age'] = df['present'] - df['start']\n",
    "\n",
    "# Define functions to categorize battery health\n",
    "def assign_value_boh(x):\n",
    "    if x < 5:\n",
    "        return 'Above 90%'\n",
    "    elif 5 <= x <= 8:\n",
    "        return '80-90%'\n",
    "    elif x>8:\n",
    "        return 'Below 80%'\n",
    "\n",
    "df['boh'] = df['age'].apply(assign_value_boh)\n",
    "\n",
    "# Calculate the counts of each year of construction\n",
    "year_counts = df['start'].value_counts().reset_index()\n",
    "year_counts.columns = ['start', 'Count']\n",
    "year_counts = year_counts.sort_values(by='start', ascending=True)\n",
    "# print(df)\n",
    "new_df = df.loc[:, ['start', 'present', 'age', 'boh']]\n",
    "print(new_df)\n",
    "\n",
    "# Group the DataFrame by 'start' year and 'boh' and get the count of each group\n",
    "grouped_df = new_df.groupby(['start', 'boh']).size().reset_index(name='Count')\n",
    "\n",
    "# print(grouped_df)\n",
    "\n",
    "df=grouped_df\n",
    "\n",
    "# Filter the DataFrame for years between 2010 and 2020\n",
    "df = df[(df['start'] >= 2010) & (df['start'] <= 2020)]\n",
    "\n",
    "# Create a pivot table to prepare data for the bar graph\n",
    "pivot_table = pd.pivot_table(df, values='Count', index='start', columns='boh', fill_value=0)\n",
    "\n",
    "# Define the colors for different 'boh' categories\n",
    "colors = plt.cm.tab10.colors\n",
    "\n",
    "# Create the bar graph\n",
    "plt.figure(figsize=(10, 6))\n",
    "\n",
    "for i, col in enumerate(pivot_table.columns):\n",
    "    plt.bar(pivot_table.index, pivot_table[col], color=colors[i], label=col)\n",
    "\n",
    "plt.xlabel('Year')\n",
    "plt.ylabel('Count')\n",
    "plt.title('Count of Different Battery Operating Capacity (Boh) Categories from 2010 to 2020')\n",
    "plt.legend(title='Boh', loc='upper left')\n",
    "plt.grid(True)\n",
    "plt.xticks(rotation=45)\n",
    "\n",
    "plt.tight_layout()\n",
    "plt.show()"
   ]
  },
  {
   "cell_type": "code",
   "execution_count": null,
   "id": "1c72d8ef",
   "metadata": {},
   "outputs": [],
   "source": []
  },
  {
   "cell_type": "code",
   "execution_count": null,
   "id": "d32bcb87",
   "metadata": {},
   "outputs": [],
   "source": []
  },
  {
   "cell_type": "code",
   "execution_count": null,
   "id": "d74e9d8e",
   "metadata": {},
   "outputs": [],
   "source": []
  },
  {
   "cell_type": "code",
   "execution_count": null,
   "id": "c18afb78",
   "metadata": {},
   "outputs": [],
   "source": []
  }
 ],
 "metadata": {
  "kernelspec": {
   "display_name": "Python 3",
   "language": "python",
   "name": "python3"
  },
  "language_info": {
   "codemirror_mode": {
    "name": "ipython",
    "version": 3
   },
   "file_extension": ".py",
   "mimetype": "text/x-python",
   "name": "python",
   "nbconvert_exporter": "python",
   "pygments_lexer": "ipython3",
   "version": "3.8.8"
  }
 },
 "nbformat": 4,
 "nbformat_minor": 5
}
