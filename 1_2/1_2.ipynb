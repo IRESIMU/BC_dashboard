{
 "cells": [
  {
   "cell_type": "code",
   "execution_count": 10,
   "id": "5d88a932",
   "metadata": {},
   "outputs": [
    {
     "name": "stdout",
     "output_type": "stream",
     "text": [
      "           LOCATION    TOTAL\n",
      "0           England  16058.0\n",
      "1  Northern Ireland   6564.0\n",
      "2          Scotland  10538.0\n",
      "3             Wales   9881.0\n"
     ]
    },
    {
     "name": "stderr",
     "output_type": "stream",
     "text": [
      "<ipython-input-10-fc0a84652544>:36: SettingWithCopyWarning: \n",
      "A value is trying to be set on a copy of a slice from a DataFrame.\n",
      "Try using .loc[row_indexer,col_indexer] = value instead\n",
      "\n",
      "See the caveats in the documentation: https://pandas.pydata.org/pandas-docs/stable/user_guide/indexing.html#returning-a-view-versus-a-copy\n",
      "  df_filtered['TOTAL'] = pd.to_numeric(df_filtered['TOTAL'], errors='coerce')\n"
     ]
    },
    {
     "data": {
      "image/png": "[encoded data removed]",
      "text/plain": [
       "<Figure size 720x432 with 1 Axes>"
      ]
     },
     "metadata": {
      "needs_background": "light"
     },
     "output_type": "display_data"
    }
   ],
   "source": [
    "######## 1_2 Distribution of EVs in the Parc by Geographic Location ########\n",
    "\n",
    "import pandas as pd\n",
    "import matplotlib.pyplot as plt\n",
    "# Assuming your DataFrame is named 'df'\n",
    "\n",
    "# Read the CSV file into a DataFrame, skipping the first 4 rows\n",
    "csv_url = r'C:\\Users\\varun\\OneDrive - Maynooth University\\0_BCP\\New Files\\VEH0171a_Fuel.csv'\n",
    "df = pd.read_csv(csv_url, skiprows=4)\n",
    "\n",
    "# Renaming the columns and removing extra spaces\n",
    "df = df.rename(columns={\n",
    "    'Geography [note 3]': 'LOCATION',\n",
    "    'Date Interval [note 4]': 'INTERVAL',\n",
    "    'Date [note 4]': 'DATE',\n",
    "    'Total'  : 'TOTAL'  # Replace 'old_column_name_n' with the actual last column name\n",
    "})\n",
    "\n",
    "# Keep only the desired columns\n",
    "columns_to_keep = ['LOCATION', 'INTERVAL', 'DATE', 'TOTAL']\n",
    "df = df[columns_to_keep]\n",
    "\n",
    "# Now your DataFrame has the desired column names and only the desired columns\n",
    "# print(df.head())\n",
    "\n",
    "# Filter for annual intervals\n",
    "df_annual = df[df['INTERVAL'] == 'Annual']\n",
    "\n",
    "# List of locations to consider\n",
    "locations_list = ['England', 'Scotland', 'Wales', 'Northern Ireland']\n",
    "\n",
    "# Filter the DataFrame to include only the listed locations\n",
    "df_filtered = df_annual[df_annual['LOCATION'].isin(locations_list)]\n",
    "\n",
    "# Convert 'TOTAL' column to numeric\n",
    "df_filtered['TOTAL'] = pd.to_numeric(df_filtered['TOTAL'], errors='coerce')\n",
    "\n",
    "# Group by location and sum the values of the 'TOTAL' column for each location\n",
    "grouped_df = df_filtered.groupby('LOCATION')['TOTAL'].sum().reset_index()\n",
    "\n",
    "print(grouped_df)\n",
    "\n",
    "# Plot the bar graph\n",
    "plt.figure(figsize=(10, 6))\n",
    "bars = plt.bar(grouped_df['LOCATION'], grouped_df['TOTAL'])\n",
    "plt.xlabel('Location')\n",
    "plt.ylabel('Total EVs')\n",
    "plt.title('Total EVs in the Parc by Geographic Location')\n",
    "plt.xticks(rotation=45, ha='right')\n",
    "plt.tight_layout()\n",
    "\n",
    "# Add annotations for each bar\n",
    "for bar in bars:\n",
    "    height = bar.get_height()\n",
    "    plt.text(bar.get_x() + bar.get_width() / 2, height, f'{height:.0f}', ha='center', va='bottom')\n",
    "\n",
    "# Show the plot\n",
    "plt.show()"
   ]
  },
  {
   "cell_type": "code",
   "execution_count": null,
   "id": "819b329d",
   "metadata": {},
   "outputs": [],
   "source": []
  },
  {
   "cell_type": "code",
   "execution_count": null,
   "id": "b0c15b80",
   "metadata": {},
   "outputs": [],
   "source": []
  }
 ],
 "metadata": {
  "kernelspec": {
   "display_name": "Python 3",
   "language": "python",
   "name": "python3"
  },
  "language_info": {
   "codemirror_mode": {
    "name": "ipython",
    "version": 3
   },
   "file_extension": ".py",
   "mimetype": "text/x-python",
   "name": "python",
   "nbconvert_exporter": "python",
   "pygments_lexer": "ipython3",
   "version": "3.8.8"
  }
 },
 "nbformat": 4,
 "nbformat_minor": 5
}
