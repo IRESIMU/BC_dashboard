{
 "cells": [
  {
   "cell_type": "code",
   "execution_count": 2,
   "id": "1713147e",
   "metadata": {},
   "outputs": [
    {
     "name": "stderr",
     "output_type": "stream",
     "text": [
      "<ipython-input-2-175811d23897>:60: SettingWithCopyWarning: \n",
      "A value is trying to be set on a copy of a slice from a DataFrame.\n",
      "Try using .loc[row_indexer,col_indexer] = value instead\n",
      "\n",
      "See the caveats in the documentation: https://pandas.pydata.org/pandas-docs/stable/user_guide/indexing.html#returning-a-view-versus-a-copy\n",
      "  new_df_2['2022'] = new_df_2['2022'] * new_df_2['CAPACITY_KWH']\n",
      "<ipython-input-2-175811d23897>:61: SettingWithCopyWarning: \n",
      "A value is trying to be set on a copy of a slice from a DataFrame.\n",
      "Try using .loc[row_indexer,col_indexer] = value instead\n",
      "\n",
      "See the caveats in the documentation: https://pandas.pydata.org/pandas-docs/stable/user_guide/indexing.html#returning-a-view-versus-a-copy\n",
      "  new_df_2['2021'] = new_df_2['2021'] * new_df_2['CAPACITY_KWH']\n",
      "<ipython-input-2-175811d23897>:62: SettingWithCopyWarning: \n",
      "A value is trying to be set on a copy of a slice from a DataFrame.\n",
      "Try using .loc[row_indexer,col_indexer] = value instead\n",
      "\n",
      "See the caveats in the documentation: https://pandas.pydata.org/pandas-docs/stable/user_guide/indexing.html#returning-a-view-versus-a-copy\n",
      "  new_df_2['2020'] = new_df_2['2020'] * new_df_2['CAPACITY_KWH']\n"
     ]
    },
    {
     "data": {
      "image/png": "[encoded data removed]",
      "text/plain": [
       "<Figure size 1080x576 with 1 Axes>"
      ]
     },
     "metadata": {
      "needs_background": "light"
     },
     "output_type": "display_data"
    }
   ],
   "source": [
    "####### 1_4 EV Battery Raw Materials  ################\n",
    "import pandas as pd\n",
    "import matplotlib.pyplot as plt\n",
    "import seaborn as sns\n",
    "\n",
    "# Replace 'csv_url' file link\n",
    "csv_url = r'https://raw.githubusercontent.com/varunraaju/Battery_Cycle_Plots/main/1_4/VEH0171b_GenModels.csv?token=GHSAT0AAAAAACFKR6ACSQA43JKNARC5QQMOZGI4YTA'\n",
    "\n",
    "# Read the CSV file into a DataFrame, skipping the first 4 rows\n",
    "df = pd.read_csv(csv_url, skiprows=4)\n",
    "\n",
    "# Save the first four columns in a separate DataFrame with the renamed names\n",
    "first_four_columns = df.iloc[:, :6].rename(columns={df.columns[2]: 'BODY TYPE', df.columns[3]: 'MAKE', df.columns[4]: 'MODEL', df.columns[5]: 'FUEL'})\n",
    "\n",
    "# Drop the first two columns from the original DataFrame\n",
    "df.drop(df.columns[:4], axis=1, inplace=True)\n",
    "\n",
    "# Create a new DataFrame to store the sums\n",
    "sum_df = pd.DataFrame(index=df.index)\n",
    "\n",
    "# Iterate through columns and group by left 4 characters of the header\n",
    "for col in df.columns:\n",
    "    header_prefix = col[:4]\n",
    "    if header_prefix not in sum_df.columns:\n",
    "        selected_columns = df.loc[:, df.columns.str[:4] == header_prefix]\n",
    "        sum_df[header_prefix] = pd.to_numeric(selected_columns.stack(), errors='coerce').groupby(level=0).sum()\n",
    "\n",
    "# Print the first few rows of the new DataFrame with sums and the first four columns unchanged\n",
    "result_df = pd.concat([first_four_columns, sum_df], axis=1)\n",
    "new_df = result_df.drop(result_df.columns[[0, 1, 6, 7]], axis=1)\n",
    "\n",
    "# Calculate the sum of numbers from the 5th column till the last column and add a new \"TOTAL\" column\n",
    "new_df['TOTAL'] = new_df[new_df.columns[2:]].sum(axis=1)\n",
    "\n",
    "# Filter out rows where 'MODEL' column contains the string \"MISSING\"\n",
    "clean_data = new_df[~new_df['MODEL'].str.contains(\"MISSING\")]\n",
    "\n",
    "##################################################################\n",
    "# Manually replace the EV battery capacity data file path\n",
    "\n",
    "csv_url2 = r'https://raw.githubusercontent.com/varunraaju/Battery_Cycle_Plots/main/1_4/EV_CAPACITY.csv?token=GHSAT0AAAAAACFKR6ADVYPPKKO4JWATWFJUZGI4WWQ'\n",
    "df2 = pd.read_csv(csv_url2)\n",
    "df2.columns = df2.columns.str.upper()\n",
    "# print(df2)\n",
    "###################################################################\n",
    "# merging both the data frames\n",
    "clean_data = clean_data.merge(df2[['MODEL', 'BODY_TYPE', 'CAPACITY_KWH']], on='MODEL', how='left')\n",
    "\n",
    "# Drop rows with NaN values in the 'BODY_TYPE' column\n",
    "clean_data.dropna(subset=['BODY_TYPE'], inplace=True)\n",
    "\n",
    "# List of body types to categorize\n",
    "main_body_types = ['Sedan', 'SUV', 'Hatchback', 'Van']\n",
    "\n",
    "# Categorize 'BODY TYPE' column as Sedan, SUV, Hatchback, Van, and \"Others\"\n",
    "clean_data['BODY_TYPE_CATEGORIZED'] = clean_data['BODY_TYPE'].where(clean_data['BODY_TYPE'].isin(main_body_types), 'Others')\n",
    "########################################################################\n",
    "\n",
    "new_df_2 = clean_data[['CAPACITY_KWH','2022','2021','2020']]\n",
    "new_df_2['2022'] = new_df_2['2022'] * new_df_2['CAPACITY_KWH']\n",
    "new_df_2['2021'] = new_df_2['2021'] * new_df_2['CAPACITY_KWH']\n",
    "new_df_2['2020'] = new_df_2['2020'] * new_df_2['CAPACITY_KWH']\n",
    "\n",
    "# print(new_df_2)\n",
    "# Calculate the total of column values\n",
    "column_totals = new_df_2.sum()\n",
    "\n",
    "# Convert the column totals Series to a DataFrame\n",
    "column_totals_df = pd.DataFrame(column_totals, columns=['Total'])\n",
    "column_totals_df = column_totals_df.T\n",
    "column_totals_df = column_totals_df.drop('CAPACITY_KWH', axis=1)\n",
    "# print(column_totals_df)\n",
    "\n",
    "# Create a DataFrame with the given percentages and materials\n",
    "materials_data = {\n",
    "    'Percentage': [0.2810, 0.1890, 0.1570, 0.1080, 0.1080, 0.0540, 0.0430, 0.0320, 0.0270],\n",
    "    'Material': ['Graphite', 'Aluminium', 'Nickel', 'Copper', 'Steel', 'Lithium', 'Manganese', 'Cobalt', 'Iron']\n",
    "}\n",
    "\n",
    "materials_df = pd.DataFrame(materials_data)\n",
    "# print(materials_df)\n",
    "\n",
    "for year in ['2020', '2021', '2022']:\n",
    "    materials_df[year] = column_totals_df[year].values * materials_df['Percentage']\n",
    "\n",
    "    \n",
    "# Melt the DataFrame to convert columns to rows for plotting\n",
    "df2_melted = materials_df.melt(id_vars=['Material', 'Percentage'], var_name='Year', value_name='Value')\n",
    "\n",
    "# Create a clustered bar plot using Seaborn\n",
    "plt.figure(figsize=(15, 8))\n",
    "sns.barplot(data=df2_melted, x='Material', y='Value', hue='Year', palette='bright')\n",
    "plt.title('Ev Battery Raw Materials in recent years',fontsize = 17)\n",
    "plt.xlabel('MATERIAL',fontsize = 15)\n",
    "plt.ylabel('KGs',fontsize = 15)\n",
    "plt.legend(title='Year', loc='upper right',fontsize = 15)\n",
    "plt.tight_layout()\n",
    "plt.show()\n",
    "\n",
    "# print(materials_df) \n"
   ]
  },
  {
   "cell_type": "code",
   "execution_count": null,
   "id": "255f7416",
   "metadata": {},
   "outputs": [],
   "source": []
  },
  {
   "cell_type": "code",
   "execution_count": null,
   "id": "ee0e1ac6",
   "metadata": {},
   "outputs": [],
   "source": []
  },
  {
   "cell_type": "code",
   "execution_count": null,
   "id": "6166a45a",
   "metadata": {},
   "outputs": [],
   "source": []
  },
  {
   "cell_type": "code",
   "execution_count": null,
   "id": "16099aeb",
   "metadata": {},
   "outputs": [],
   "source": []
  },
  {
   "cell_type": "code",
   "execution_count": null,
   "id": "7dad2738",
   "metadata": {},
   "outputs": [],
   "source": []
  },
  {
   "cell_type": "code",
   "execution_count": null,
   "id": "86fe952f",
   "metadata": {},
   "outputs": [],
   "source": []
  },
  {
   "cell_type": "code",
   "execution_count": null,
   "id": "bf428e1a",
   "metadata": {},
   "outputs": [],
   "source": []
  },
  {
   "cell_type": "code",
   "execution_count": null,
   "id": "ff8a3282",
   "metadata": {},
   "outputs": [],
   "source": []
  }
 ],
 "metadata": {
  "kernelspec": {
   "display_name": "Python 3",
   "language": "python",
   "name": "python3"
  },
  "language_info": {
   "codemirror_mode": {
    "name": "ipython",
    "version": 3
   },
   "file_extension": ".py",
   "mimetype": "text/x-python",
   "name": "python",
   "nbconvert_exporter": "python",
   "pygments_lexer": "ipython3",
   "version": "3.8.8"
  }
 },
 "nbformat": 4,
 "nbformat_minor": 5
}
