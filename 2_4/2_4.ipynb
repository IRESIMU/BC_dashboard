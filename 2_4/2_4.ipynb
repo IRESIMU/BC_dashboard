{
 "cells": [
  {
   "cell_type": "code",
   "execution_count": 1,
   "id": "2406cfc0",
   "metadata": {},
   "outputs": [
    {
     "data": {
      "image/png": "[encoded data removed]",
      "text/plain": [
       "<Figure size 1008x432 with 1 Axes>"
      ]
     },
     "metadata": {
      "needs_background": "light"
     },
     "output_type": "display_data"
    }
   ],
   "source": [
    "\n",
    "######### 2_4 Average Test Mileage #########\n",
    "\n",
    "import pandas as pd\n",
    "import seaborn as sns\n",
    "import matplotlib.pyplot as plt\n",
    "\n",
    "csv_url = 'C:/Users/samar/Downloads/dft_test_result_2022/test_result.csv'\n",
    "df = pd.read_csv(csv_url, delimiter = '|', error_bad_lines=False)\n",
    "df = df[df['fuel_type'].isin(['EL', 'Electric', 'HY' , 'Hybrid Electric (Clean)'])]\n",
    "# calculating age\n",
    "df['present'] = df['test_date'].str[-4:]\n",
    "df['present'] = pd.to_numeric(df['present'], errors='coerce')\n",
    "df['start'] = df['first_use_date'].str[-4:]\n",
    "df['start'] = pd.to_numeric(df['start'], errors='coerce')\n",
    "df['age'] = df['present'] - df['start']\n",
    "# Define a function to check if the value is less than 8 and return 1, otherwise 0\n",
    "def assign_value_less_80(x):\n",
    "    return 1 if x > 8 else 0\n",
    "df['boh_below_80'] = df['age'].apply(assign_value_less_80)\n",
    "def assign_value_80_90(x):\n",
    "    return 1 if 5 <= x <= 8 else 0\n",
    "df['boh_80-90'] = df['age'].apply(assign_value_80_90)\n",
    "def assign_value_above_90(x):\n",
    "    return 1 if x < 5 else 0\n",
    "df['boh_above_90'] = df['age'].apply(assign_value_above_90)\n",
    "# Calculate the counts of each string in the column\n",
    "string_counts = df['model'].value_counts()\n",
    "df['model_count'] = df['model'].map(string_counts)\n",
    "ma_count = df['make'].value_counts()\n",
    "df['make_count'] = df['make'].map(ma_count)\n",
    "\n",
    "# Manually enter top 10 models as it is mentioned in the data\n",
    "top_ten_models = ['PRIUS', 'YARIS', 'AURIS', 'OUTLANDER', 'C-HR', 'LEAF', 'CT', 'RAV4', 'IONIQ', 'NIRO']\n",
    "\n",
    "# Filter the DataFrame to include only rows with 'column_name' matching the strings in 'strings_to_filter'\n",
    "filtered_df = df[df['model'].isin(top_ten_models)]\n",
    "\n",
    "############################################################################\n",
    "######### 2_4 Average Test Mileage #########\n",
    "\n",
    "# top_model_mileage_df = filtered_df[['model', 'test_mileage']]\n",
    "top_model_mileage_df = filtered_df.groupby('model')['test_mileage'].mean().reset_index()\n",
    "top_model_mileage_df = top_model_mileage_df.sort_values(by='test_mileage', ascending=False)\n",
    "\n",
    "# print(top_model_mileage_df)\n",
    "\n",
    "# Create a bar graph\n",
    "plt.figure(figsize=(14, 6))  # Set the size of the figure (adjust width and height as needed)\n",
    "plt.bar(top_model_mileage_df['model'], top_model_mileage_df['test_mileage'])\n",
    "\n",
    "# Add labels and title\n",
    "plt.xlabel('Car Model')\n",
    "plt.ylabel('Average Test Mileage')\n",
    "plt.title('Average Test Mileage by Car Model')\n",
    "\n",
    "# Rotate x-axis labels for better visibility\n",
    "# plt.xticks(rotation=45)\n",
    "\n",
    "# Show the plot\n",
    "plt.show()\n",
    "############################################################################"
   ]
  },
  {
   "cell_type": "code",
   "execution_count": null,
   "id": "cb03c7ba",
   "metadata": {},
   "outputs": [],
   "source": []
  }
 ],
 "metadata": {
  "kernelspec": {
   "display_name": "Python 3",
   "language": "python",
   "name": "python3"
  },
  "language_info": {
   "codemirror_mode": {
    "name": "ipython",
    "version": 3
   },
   "file_extension": ".py",
   "mimetype": "text/x-python",
   "name": "python",
   "nbconvert_exporter": "python",
   "pygments_lexer": "ipython3",
   "version": "3.8.8"
  }
 },
 "nbformat": 4,
 "nbformat_minor": 5
}
